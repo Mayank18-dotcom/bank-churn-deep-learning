{
 "cells": [
  {
   "cell_type": "code",
   "execution_count": 54,
   "metadata": {},
   "outputs": [],
   "source": [
    "import numpy as np\n",
    "import pandas as pd\n",
    "import matplotlib.pyplot as plt\n",
    "%matplotlib inline"
   ]
  },
  {
   "cell_type": "code",
   "execution_count": 55,
   "metadata": {},
   "outputs": [
    {
     "data": {
      "text/html": [
       "<div>\n",
       "<style scoped>\n",
       "    .dataframe tbody tr th:only-of-type {\n",
       "        vertical-align: middle;\n",
       "    }\n",
       "\n",
       "    .dataframe tbody tr th {\n",
       "        vertical-align: top;\n",
       "    }\n",
       "\n",
       "    .dataframe thead th {\n",
       "        text-align: right;\n",
       "    }\n",
       "</style>\n",
       "<table border=\"1\" class=\"dataframe\">\n",
       "  <thead>\n",
       "    <tr style=\"text-align: right;\">\n",
       "      <th></th>\n",
       "      <th>RowNumber</th>\n",
       "      <th>CustomerId</th>\n",
       "      <th>Surname</th>\n",
       "      <th>CreditScore</th>\n",
       "      <th>Geography</th>\n",
       "      <th>Gender</th>\n",
       "      <th>Age</th>\n",
       "      <th>Tenure</th>\n",
       "      <th>Balance</th>\n",
       "      <th>NumOfProducts</th>\n",
       "      <th>HasCrCard</th>\n",
       "      <th>IsActiveMember</th>\n",
       "      <th>EstimatedSalary</th>\n",
       "      <th>Exited</th>\n",
       "    </tr>\n",
       "  </thead>\n",
       "  <tbody>\n",
       "    <tr>\n",
       "      <th>1380</th>\n",
       "      <td>1381</td>\n",
       "      <td>15743067</td>\n",
       "      <td>Fuller</td>\n",
       "      <td>625</td>\n",
       "      <td>Germany</td>\n",
       "      <td>Male</td>\n",
       "      <td>26</td>\n",
       "      <td>3</td>\n",
       "      <td>130483.95</td>\n",
       "      <td>1</td>\n",
       "      <td>1</td>\n",
       "      <td>0</td>\n",
       "      <td>122810.53</td>\n",
       "      <td>0</td>\n",
       "    </tr>\n",
       "    <tr>\n",
       "      <th>4737</th>\n",
       "      <td>4738</td>\n",
       "      <td>15615140</td>\n",
       "      <td>Corson</td>\n",
       "      <td>791</td>\n",
       "      <td>France</td>\n",
       "      <td>Male</td>\n",
       "      <td>36</td>\n",
       "      <td>6</td>\n",
       "      <td>111168.97</td>\n",
       "      <td>1</td>\n",
       "      <td>1</td>\n",
       "      <td>1</td>\n",
       "      <td>189969.91</td>\n",
       "      <td>0</td>\n",
       "    </tr>\n",
       "    <tr>\n",
       "      <th>4331</th>\n",
       "      <td>4332</td>\n",
       "      <td>15789714</td>\n",
       "      <td>Semmens</td>\n",
       "      <td>691</td>\n",
       "      <td>Spain</td>\n",
       "      <td>Male</td>\n",
       "      <td>21</td>\n",
       "      <td>3</td>\n",
       "      <td>103000.94</td>\n",
       "      <td>1</td>\n",
       "      <td>1</td>\n",
       "      <td>1</td>\n",
       "      <td>104648.58</td>\n",
       "      <td>0</td>\n",
       "    </tr>\n",
       "    <tr>\n",
       "      <th>5406</th>\n",
       "      <td>5407</td>\n",
       "      <td>15593954</td>\n",
       "      <td>Eva</td>\n",
       "      <td>516</td>\n",
       "      <td>France</td>\n",
       "      <td>Female</td>\n",
       "      <td>47</td>\n",
       "      <td>6</td>\n",
       "      <td>109387.33</td>\n",
       "      <td>1</td>\n",
       "      <td>0</td>\n",
       "      <td>0</td>\n",
       "      <td>121365.45</td>\n",
       "      <td>0</td>\n",
       "    </tr>\n",
       "    <tr>\n",
       "      <th>4641</th>\n",
       "      <td>4642</td>\n",
       "      <td>15786617</td>\n",
       "      <td>Arcuri</td>\n",
       "      <td>485</td>\n",
       "      <td>Germany</td>\n",
       "      <td>Male</td>\n",
       "      <td>34</td>\n",
       "      <td>3</td>\n",
       "      <td>133658.24</td>\n",
       "      <td>1</td>\n",
       "      <td>1</td>\n",
       "      <td>0</td>\n",
       "      <td>70209.83</td>\n",
       "      <td>0</td>\n",
       "    </tr>\n",
       "  </tbody>\n",
       "</table>\n",
       "</div>"
      ],
      "text/plain": [
       "      RowNumber  CustomerId  Surname  CreditScore Geography  Gender  Age  \\\n",
       "1380       1381    15743067   Fuller          625   Germany    Male   26   \n",
       "4737       4738    15615140   Corson          791    France    Male   36   \n",
       "4331       4332    15789714  Semmens          691     Spain    Male   21   \n",
       "5406       5407    15593954      Eva          516    France  Female   47   \n",
       "4641       4642    15786617   Arcuri          485   Germany    Male   34   \n",
       "\n",
       "      Tenure    Balance  NumOfProducts  HasCrCard  IsActiveMember  \\\n",
       "1380       3  130483.95              1          1               0   \n",
       "4737       6  111168.97              1          1               1   \n",
       "4331       3  103000.94              1          1               1   \n",
       "5406       6  109387.33              1          0               0   \n",
       "4641       3  133658.24              1          1               0   \n",
       "\n",
       "      EstimatedSalary  Exited  \n",
       "1380        122810.53       0  \n",
       "4737        189969.91       0  \n",
       "4331        104648.58       0  \n",
       "5406        121365.45       0  \n",
       "4641         70209.83       0  "
      ]
     },
     "execution_count": 55,
     "metadata": {},
     "output_type": "execute_result"
    }
   ],
   "source": [
    "df1 = pd.read_csv('Churn_Modelling.csv')\n",
    "df1.sample(5)"
   ]
  },
  {
   "cell_type": "code",
   "execution_count": 56,
   "metadata": {},
   "outputs": [
    {
     "data": {
      "text/html": [
       "<div>\n",
       "<style scoped>\n",
       "    .dataframe tbody tr th:only-of-type {\n",
       "        vertical-align: middle;\n",
       "    }\n",
       "\n",
       "    .dataframe tbody tr th {\n",
       "        vertical-align: top;\n",
       "    }\n",
       "\n",
       "    .dataframe thead th {\n",
       "        text-align: right;\n",
       "    }\n",
       "</style>\n",
       "<table border=\"1\" class=\"dataframe\">\n",
       "  <thead>\n",
       "    <tr style=\"text-align: right;\">\n",
       "      <th></th>\n",
       "      <th>CreditScore</th>\n",
       "      <th>Geography</th>\n",
       "      <th>Gender</th>\n",
       "      <th>Age</th>\n",
       "      <th>Tenure</th>\n",
       "      <th>Balance</th>\n",
       "      <th>NumOfProducts</th>\n",
       "      <th>HasCrCard</th>\n",
       "      <th>IsActiveMember</th>\n",
       "      <th>EstimatedSalary</th>\n",
       "      <th>Exited</th>\n",
       "    </tr>\n",
       "  </thead>\n",
       "  <tbody>\n",
       "    <tr>\n",
       "      <th>9094</th>\n",
       "      <td>595</td>\n",
       "      <td>Germany</td>\n",
       "      <td>Female</td>\n",
       "      <td>32</td>\n",
       "      <td>0</td>\n",
       "      <td>92466.21</td>\n",
       "      <td>1</td>\n",
       "      <td>1</td>\n",
       "      <td>0</td>\n",
       "      <td>4721.30</td>\n",
       "      <td>0</td>\n",
       "    </tr>\n",
       "    <tr>\n",
       "      <th>2279</th>\n",
       "      <td>745</td>\n",
       "      <td>Spain</td>\n",
       "      <td>Male</td>\n",
       "      <td>34</td>\n",
       "      <td>9</td>\n",
       "      <td>0.00</td>\n",
       "      <td>2</td>\n",
       "      <td>1</td>\n",
       "      <td>0</td>\n",
       "      <td>50046.25</td>\n",
       "      <td>0</td>\n",
       "    </tr>\n",
       "    <tr>\n",
       "      <th>2841</th>\n",
       "      <td>801</td>\n",
       "      <td>France</td>\n",
       "      <td>Male</td>\n",
       "      <td>38</td>\n",
       "      <td>5</td>\n",
       "      <td>0.00</td>\n",
       "      <td>2</td>\n",
       "      <td>1</td>\n",
       "      <td>0</td>\n",
       "      <td>66256.27</td>\n",
       "      <td>0</td>\n",
       "    </tr>\n",
       "  </tbody>\n",
       "</table>\n",
       "</div>"
      ],
      "text/plain": [
       "      CreditScore Geography  Gender  Age  Tenure   Balance  NumOfProducts  \\\n",
       "9094          595   Germany  Female   32       0  92466.21              1   \n",
       "2279          745     Spain    Male   34       9      0.00              2   \n",
       "2841          801    France    Male   38       5      0.00              2   \n",
       "\n",
       "      HasCrCard  IsActiveMember  EstimatedSalary  Exited  \n",
       "9094          1               0          4721.30       0  \n",
       "2279          1               0         50046.25       0  \n",
       "2841          1               0         66256.27       0  "
      ]
     },
     "execution_count": 56,
     "metadata": {},
     "output_type": "execute_result"
    }
   ],
   "source": [
    "df1.drop(['RowNumber','CustomerId','Surname'],axis=1,inplace=True)\n",
    "df1.sample(3)"
   ]
  },
  {
   "cell_type": "code",
   "execution_count": 57,
   "metadata": {},
   "outputs": [
    {
     "data": {
      "text/plain": [
       "(10000, 11)"
      ]
     },
     "execution_count": 57,
     "metadata": {},
     "output_type": "execute_result"
    }
   ],
   "source": [
    "df1.shape"
   ]
  },
  {
   "cell_type": "code",
   "execution_count": 58,
   "metadata": {},
   "outputs": [],
   "source": [
    "def unique_values(df):\n",
    "        for col in df:\n",
    "            print(f'{col} : {df[col].unique()}')"
   ]
  },
  {
   "cell_type": "code",
   "execution_count": 59,
   "metadata": {
    "collapsed": true
   },
   "outputs": [
    {
     "name": "stdout",
     "output_type": "stream",
     "text": [
      "CreditScore : [619 608 502 699 850 645 822 376 501 684 528 497 476 549 635 616 653 587\n",
      " 726 732 636 510 669 846 577 756 571 574 411 591 533 553 520 722 475 490\n",
      " 804 582 472 465 556 834 660 776 829 637 550 698 585 788 655 601 656 725\n",
      " 511 614 742 687 555 603 751 581 735 661 675 738 813 657 604 519 664 678\n",
      " 757 416 665 777 543 506 493 652 750 729 646 647 808 524 769 730 515 773\n",
      " 814 710 413 623 670 622 785 605 479 685 538 562 721 628 668 828 674 625\n",
      " 432 770 758 795 686 789 589 461 584 579 663 682 793 691 485 650 754 535\n",
      " 716 539 706 586 631 717 800 683 704 615 667 484 480 578 512 606 597 778\n",
      " 514 525 715 580 807 521 759 516 711 618 643 671 689 620 676 572 695 592\n",
      " 567 694 547 594 673 610 767 763 712 703 662 659 523 772 545 634 739 771\n",
      " 681 544 696 766 727 693 557 531 498 651 791 733 811 707 714 782 775 799\n",
      " 602 744 588 747 583 627 731 629 438 642 806 474 559 429 680 749 734 644\n",
      " 626 649 805 718 840 630 654 762 568 613 522 737 648 443 640 540 460 593\n",
      " 801 611 802 745 483 690 492 709 705 560 752 701 537 487 596 702 486 724\n",
      " 548 464 790 534 748 494 590 468 509 818 816 536 753 774 621 569 658 798\n",
      " 641 542 692 639 765 570 638 599 632 779 527 564 833 504 842 508 417 598\n",
      " 741 607 761 848 546 439 755 760 526 713 700 666 566 495 688 612 477 427\n",
      " 839 819 720 459 503 624 529 563 482 796 445 746 786 554 672 787 499 844\n",
      " 450 815 838 803 736 633 600 679 517 792 743 488 421 841 708 507 505 456\n",
      " 435 561 518 565 728 784 552 609 764 697 723 551 444 719 496 541 830 812\n",
      " 677 420 595 617 809 500 826 434 513 478 797 363 399 463 780 452 575 837\n",
      " 794 824 428 823 781 849 489 431 457 768 831 359 820 573 576 558 817 449\n",
      " 440 415 821 530 350 446 425 740 481 783 358 845 451 458 469 423 404 836\n",
      " 473 835 466 491 351 827 843 365 532 414 453 471 401 810 832 470 447 422\n",
      " 825 430 436 426 408 847 418 437 410 454 407 455 462 386 405 383 395 467\n",
      " 433 442 424 448 441 367 412 382 373 419]\n",
      "Geography : ['France' 'Spain' 'Germany']\n",
      "Gender : ['Female' 'Male']\n",
      "Age : [42 41 39 43 44 50 29 27 31 24 34 25 35 45 58 32 38 46 36 33 40 51 61 49\n",
      " 37 19 66 56 26 21 55 75 22 30 28 65 48 52 57 73 47 54 72 20 67 79 62 53\n",
      " 80 59 68 23 60 70 63 64 18 82 69 74 71 76 77 88 85 84 78 81 92 83]\n",
      "Tenure : [ 2  1  8  7  4  6  3 10  5  9  0]\n",
      "Balance : [     0.    83807.86 159660.8  ...  57369.61  75075.31 130142.79]\n",
      "NumOfProducts : [1 3 2 4]\n",
      "HasCrCard : [1 0]\n",
      "IsActiveMember : [1 0]\n",
      "EstimatedSalary : [101348.88 112542.58 113931.57 ...  42085.58  92888.52  38190.78]\n",
      "Exited : [1 0]\n"
     ]
    }
   ],
   "source": [
    "unique_values(df1)"
   ]
  },
  {
   "cell_type": "code",
   "execution_count": 60,
   "metadata": {},
   "outputs": [
    {
     "data": {
      "text/plain": [
       "<matplotlib.legend.Legend at 0x7feff711b460>"
      ]
     },
     "execution_count": 60,
     "metadata": {},
     "output_type": "execute_result"
    },
    {
     "data": {
      "image/png": "[encoded data removed]",
      "text/plain": [
       "<Figure size 432x288 with 1 Axes>"
      ]
     },
     "metadata": {
      "needs_background": "light"
     },
     "output_type": "display_data"
    }
   ],
   "source": [
    "ten_cs_yes = df1[df1['Exited']==1].CreditScore\n",
    "ten_cs_no = df1[df1['Exited']==0].CreditScore\n",
    "\n",
    "plt.xlabel('Exit')\n",
    "plt.ylabel('No. of Customers')\n",
    "plt.hist([ten_cs_no,ten_cs_yes],color=['red','green'],label=['Exit=0','Exit=1'])\n",
    "plt.legend()"
   ]
  },
  {
   "cell_type": "code",
   "execution_count": 61,
   "metadata": {},
   "outputs": [
    {
     "data": {
      "text/plain": [
       "<matplotlib.legend.Legend at 0x7feff45e8790>"
      ]
     },
     "execution_count": 61,
     "metadata": {},
     "output_type": "execute_result"
    },
    {
     "data": {
      "image/png": "[encoded data removed]",
      "text/plain": [
       "<Figure size 432x288 with 1 Axes>"
      ]
     },
     "metadata": {
      "needs_background": "light"
     },
     "output_type": "display_data"
    }
   ],
   "source": [
    "ten_ch_yes = df1[df1['Exited']==1].Tenure\n",
    "ten_ch_no = df1[df1['Exited']==0].Tenure\n",
    "\n",
    "plt.xlabel('Exit')\n",
    "plt.ylabel('No. of Customers')\n",
    "plt.hist([ten_ch_no,ten_ch_yes],color=['red','green'],label=['Exit=0','Exit=1'])\n",
    "plt.legend()"
   ]
  },
  {
   "cell_type": "code",
   "execution_count": 62,
   "metadata": {},
   "outputs": [
    {
     "data": {
      "text/plain": [
       "<matplotlib.legend.Legend at 0x7feff44d4850>"
      ]
     },
     "execution_count": 62,
     "metadata": {},
     "output_type": "execute_result"
    },
    {
     "data": {
      "image/png": "[encoded data removed]",
      "text/plain": [
       "<Figure size 432x288 with 1 Axes>"
      ]
     },
     "metadata": {
      "needs_background": "light"
     },
     "output_type": "display_data"
    }
   ],
   "source": [
    "ten_b_yes = df1[df1['Exited']==1].Balance\n",
    "ten_b_no = df1[df1['Exited']==0].Balance\n",
    "\n",
    "plt.xlabel('Exit')\n",
    "plt.ylabel('No. of Customers')\n",
    "plt.hist([ten_b_no,ten_b_yes],color=['red','green'],label=['Exit=0','Exit=1'])\n",
    "plt.legend()"
   ]
  },
  {
   "cell_type": "code",
   "execution_count": 63,
   "metadata": {},
   "outputs": [
    {
     "data": {
      "text/plain": [
       "<matplotlib.legend.Legend at 0x7feff4234280>"
      ]
     },
     "execution_count": 63,
     "metadata": {},
     "output_type": "execute_result"
    },
    {
     "data": {
      "image/png": "[encoded data removed]",
      "text/plain": [
       "<Figure size 432x288 with 1 Axes>"
      ]
     },
     "metadata": {
      "needs_background": "light"
     },
     "output_type": "display_data"
    }
   ],
   "source": [
    "ef = df1[df1['Geography']=='France'].Exited\n",
    "es = df1[df1['Geography']=='Spain'].Exited\n",
    "eg = df1[df1['Geography']=='Germany'].Exited\n",
    "\n",
    "plt.xlabel('Country')\n",
    "plt.ylabel('No. of Customers')\n",
    "plt.hist([ef,es,eg],label=['France','Spain','Germany'],bins=2,range=[0,1])\n",
    "plt.legend()"
   ]
  },
  {
   "cell_type": "code",
   "execution_count": 64,
   "metadata": {},
   "outputs": [
    {
     "data": {
      "text/plain": [
       "CreditScore          int64\n",
       "Geography           object\n",
       "Gender              object\n",
       "Age                  int64\n",
       "Tenure               int64\n",
       "Balance            float64\n",
       "NumOfProducts        int64\n",
       "HasCrCard            int64\n",
       "IsActiveMember       int64\n",
       "EstimatedSalary    float64\n",
       "Exited               int64\n",
       "dtype: object"
      ]
     },
     "execution_count": 64,
     "metadata": {},
     "output_type": "execute_result"
    }
   ],
   "source": [
    "df1.dtypes"
   ]
  },
  {
   "cell_type": "code",
   "execution_count": 65,
   "metadata": {},
   "outputs": [
    {
     "data": {
      "text/plain": [
       "CreditScore            int64\n",
       "Age                    int64\n",
       "Tenure                 int64\n",
       "Balance              float64\n",
       "NumOfProducts          int64\n",
       "HasCrCard              int64\n",
       "IsActiveMember         int64\n",
       "EstimatedSalary      float64\n",
       "Exited                 int64\n",
       "Geography_France       uint8\n",
       "Geography_Germany      uint8\n",
       "Geography_Spain        uint8\n",
       "Gender_Female          uint8\n",
       "Gender_Male            uint8\n",
       "dtype: object"
      ]
     },
     "execution_count": 65,
     "metadata": {},
     "output_type": "execute_result"
    }
   ],
   "source": [
    "to_conv  = ['Geography','Gender']\n",
    "df2 = pd.get_dummies(data=df1,columns=to_conv)\n",
    "df2.dtypes"
   ]
  },
  {
   "cell_type": "code",
   "execution_count": 66,
   "metadata": {
    "collapsed": true
   },
   "outputs": [
    {
     "name": "stdout",
     "output_type": "stream",
     "text": [
      "CreditScore : [619 608 502 699 850 645 822 376 501 684 528 497 476 549 635 616 653 587\n",
      " 726 732 636 510 669 846 577 756 571 574 411 591 533 553 520 722 475 490\n",
      " 804 582 472 465 556 834 660 776 829 637 550 698 585 788 655 601 656 725\n",
      " 511 614 742 687 555 603 751 581 735 661 675 738 813 657 604 519 664 678\n",
      " 757 416 665 777 543 506 493 652 750 729 646 647 808 524 769 730 515 773\n",
      " 814 710 413 623 670 622 785 605 479 685 538 562 721 628 668 828 674 625\n",
      " 432 770 758 795 686 789 589 461 584 579 663 682 793 691 485 650 754 535\n",
      " 716 539 706 586 631 717 800 683 704 615 667 484 480 578 512 606 597 778\n",
      " 514 525 715 580 807 521 759 516 711 618 643 671 689 620 676 572 695 592\n",
      " 567 694 547 594 673 610 767 763 712 703 662 659 523 772 545 634 739 771\n",
      " 681 544 696 766 727 693 557 531 498 651 791 733 811 707 714 782 775 799\n",
      " 602 744 588 747 583 627 731 629 438 642 806 474 559 429 680 749 734 644\n",
      " 626 649 805 718 840 630 654 762 568 613 522 737 648 443 640 540 460 593\n",
      " 801 611 802 745 483 690 492 709 705 560 752 701 537 487 596 702 486 724\n",
      " 548 464 790 534 748 494 590 468 509 818 816 536 753 774 621 569 658 798\n",
      " 641 542 692 639 765 570 638 599 632 779 527 564 833 504 842 508 417 598\n",
      " 741 607 761 848 546 439 755 760 526 713 700 666 566 495 688 612 477 427\n",
      " 839 819 720 459 503 624 529 563 482 796 445 746 786 554 672 787 499 844\n",
      " 450 815 838 803 736 633 600 679 517 792 743 488 421 841 708 507 505 456\n",
      " 435 561 518 565 728 784 552 609 764 697 723 551 444 719 496 541 830 812\n",
      " 677 420 595 617 809 500 826 434 513 478 797 363 399 463 780 452 575 837\n",
      " 794 824 428 823 781 849 489 431 457 768 831 359 820 573 576 558 817 449\n",
      " 440 415 821 530 350 446 425 740 481 783 358 845 451 458 469 423 404 836\n",
      " 473 835 466 491 351 827 843 365 532 414 453 471 401 810 832 470 447 422\n",
      " 825 430 436 426 408 847 418 437 410 454 407 455 462 386 405 383 395 467\n",
      " 433 442 424 448 441 367 412 382 373 419]\n",
      "Age : [42 41 39 43 44 50 29 27 31 24 34 25 35 45 58 32 38 46 36 33 40 51 61 49\n",
      " 37 19 66 56 26 21 55 75 22 30 28 65 48 52 57 73 47 54 72 20 67 79 62 53\n",
      " 80 59 68 23 60 70 63 64 18 82 69 74 71 76 77 88 85 84 78 81 92 83]\n",
      "Tenure : [ 2  1  8  7  4  6  3 10  5  9  0]\n",
      "Balance : [     0.    83807.86 159660.8  ...  57369.61  75075.31 130142.79]\n",
      "NumOfProducts : [1 3 2 4]\n",
      "HasCrCard : [1 0]\n",
      "IsActiveMember : [1 0]\n",
      "EstimatedSalary : [101348.88 112542.58 113931.57 ...  42085.58  92888.52  38190.78]\n",
      "Exited : [1 0]\n",
      "Geography_France : [1 0]\n",
      "Geography_Germany : [0 1]\n",
      "Geography_Spain : [0 1]\n",
      "Gender_Female : [1 0]\n",
      "Gender_Male : [0 1]\n"
     ]
    }
   ],
   "source": [
    "unique_values(df2)"
   ]
  },
  {
   "cell_type": "code",
   "execution_count": 67,
   "metadata": {},
   "outputs": [],
   "source": [
    "df3 = df2.copy()"
   ]
  },
  {
   "cell_type": "code",
   "execution_count": 68,
   "metadata": {
    "collapsed": true
   },
   "outputs": [
    {
     "name": "stdout",
     "output_type": "stream",
     "text": [
      "CreditScore : [0.538 0.516 0.304 0.698 1.    0.59  0.944 0.052 0.302 0.668 0.356 0.294\n",
      " 0.252 0.398 0.57  0.532 0.606 0.474 0.752 0.764 0.572 0.32  0.638 0.992\n",
      " 0.454 0.812 0.442 0.448 0.122 0.482 0.366 0.406 0.34  0.744 0.25  0.28\n",
      " 0.908 0.464 0.244 0.23  0.412 0.968 0.62  0.852 0.958 0.574 0.4   0.696\n",
      " 0.47  0.876 0.61  0.502 0.612 0.75  0.322 0.528 0.784 0.674 0.41  0.506\n",
      " 0.802 0.462 0.77  0.622 0.65  0.776 0.926 0.614 0.508 0.338 0.628 0.656\n",
      " 0.814 0.132 0.63  0.854 0.386 0.312 0.286 0.604 0.8   0.758 0.592 0.594\n",
      " 0.916 0.348 0.838 0.76  0.33  0.846 0.928 0.72  0.126 0.546 0.64  0.544\n",
      " 0.87  0.51  0.258 0.67  0.376 0.424 0.742 0.556 0.636 0.956 0.648 0.55\n",
      " 0.164 0.84  0.816 0.89  0.672 0.878 0.478 0.222 0.468 0.458 0.626 0.664\n",
      " 0.886 0.682 0.27  0.6   0.808 0.37  0.732 0.378 0.712 0.472 0.562 0.734\n",
      " 0.9   0.666 0.708 0.53  0.634 0.268 0.26  0.456 0.324 0.512 0.494 0.856\n",
      " 0.328 0.35  0.73  0.46  0.914 0.342 0.818 0.332 0.722 0.536 0.586 0.642\n",
      " 0.678 0.54  0.652 0.444 0.69  0.484 0.434 0.688 0.394 0.488 0.646 0.52\n",
      " 0.834 0.826 0.724 0.706 0.624 0.618 0.346 0.844 0.39  0.568 0.778 0.842\n",
      " 0.662 0.388 0.692 0.832 0.754 0.686 0.414 0.362 0.296 0.602 0.882 0.766\n",
      " 0.922 0.714 0.728 0.864 0.85  0.898 0.504 0.788 0.476 0.794 0.466 0.554\n",
      " 0.762 0.558 0.176 0.584 0.912 0.248 0.418 0.158 0.66  0.798 0.768 0.588\n",
      " 0.552 0.598 0.91  0.736 0.98  0.56  0.608 0.824 0.436 0.526 0.344 0.774\n",
      " 0.596 0.186 0.58  0.38  0.22  0.486 0.902 0.522 0.904 0.79  0.266 0.68\n",
      " 0.284 0.718 0.71  0.42  0.804 0.702 0.374 0.274 0.492 0.704 0.272 0.748\n",
      " 0.396 0.228 0.88  0.368 0.796 0.288 0.48  0.236 0.318 0.936 0.932 0.372\n",
      " 0.806 0.848 0.542 0.438 0.616 0.896 0.582 0.384 0.684 0.578 0.83  0.44\n",
      " 0.576 0.498 0.564 0.858 0.354 0.428 0.966 0.308 0.984 0.316 0.134 0.496\n",
      " 0.782 0.514 0.822 0.996 0.392 0.178 0.81  0.82  0.352 0.726 0.7   0.632\n",
      " 0.432 0.29  0.676 0.524 0.254 0.154 0.978 0.938 0.74  0.218 0.306 0.548\n",
      " 0.358 0.426 0.264 0.892 0.19  0.792 0.872 0.408 0.644 0.874 0.298 0.988\n",
      " 0.2   0.93  0.976 0.906 0.772 0.566 0.5   0.658 0.334 0.884 0.786 0.276\n",
      " 0.142 0.982 0.716 0.314 0.31  0.212 0.17  0.422 0.336 0.43  0.756 0.868\n",
      " 0.404 0.518 0.828 0.694 0.746 0.402 0.188 0.738 0.292 0.382 0.96  0.924\n",
      " 0.654 0.14  0.49  0.534 0.918 0.3   0.952 0.168 0.326 0.256 0.894 0.026\n",
      " 0.098 0.226 0.86  0.204 0.45  0.974 0.888 0.948 0.156 0.946 0.862 0.998\n",
      " 0.278 0.162 0.214 0.836 0.962 0.018 0.94  0.446 0.452 0.416 0.934 0.198\n",
      " 0.18  0.13  0.942 0.36  0.    0.192 0.15  0.78  0.262 0.866 0.016 0.99\n",
      " 0.202 0.216 0.238 0.146 0.108 0.972 0.246 0.97  0.232 0.282 0.002 0.954\n",
      " 0.986 0.03  0.364 0.128 0.206 0.242 0.102 0.92  0.964 0.24  0.194 0.144\n",
      " 0.95  0.16  0.172 0.152 0.116 0.994 0.136 0.174 0.12  0.208 0.114 0.21\n",
      " 0.224 0.072 0.11  0.066 0.09  0.234 0.166 0.184 0.148 0.196 0.182 0.034\n",
      " 0.124 0.064 0.046 0.138]\n",
      "Age : [0.32432432 0.31081081 0.28378378 0.33783784 0.35135135 0.43243243\n",
      " 0.14864865 0.12162162 0.17567568 0.08108108 0.21621622 0.09459459\n",
      " 0.22972973 0.36486486 0.54054054 0.18918919 0.27027027 0.37837838\n",
      " 0.24324324 0.2027027  0.2972973  0.44594595 0.58108108 0.41891892\n",
      " 0.25675676 0.01351351 0.64864865 0.51351351 0.10810811 0.04054054\n",
      " 0.5        0.77027027 0.05405405 0.16216216 0.13513514 0.63513514\n",
      " 0.40540541 0.45945946 0.52702703 0.74324324 0.39189189 0.48648649\n",
      " 0.72972973 0.02702703 0.66216216 0.82432432 0.59459459 0.47297297\n",
      " 0.83783784 0.55405405 0.67567568 0.06756757 0.56756757 0.7027027\n",
      " 0.60810811 0.62162162 0.         0.86486486 0.68918919 0.75675676\n",
      " 0.71621622 0.78378378 0.7972973  0.94594595 0.90540541 0.89189189\n",
      " 0.81081081 0.85135135 1.         0.87837838]\n",
      "Tenure : [0.2 0.1 0.8 0.7 0.4 0.6 0.3 1.  0.5 0.9 0. ]\n",
      "Balance : [0.         0.33403148 0.63635718 ... 0.22865702 0.29922631 0.51870777]\n",
      "NumOfProducts : [0.         0.66666667 0.33333333 1.        ]\n",
      "HasCrCard : [1 0]\n",
      "IsActiveMember : [1 0]\n",
      "EstimatedSalary : [0.50673489 0.56270874 0.56965435 ... 0.21039009 0.46442905 0.19091423]\n",
      "Exited : [1 0]\n",
      "Geography_France : [1 0]\n",
      "Geography_Germany : [0 1]\n",
      "Geography_Spain : [0 1]\n",
      "Gender_Female : [1 0]\n",
      "Gender_Male : [0 1]\n"
     ]
    }
   ],
   "source": [
    "to_scale = ['CreditScore','Age','Tenure','Balance','NumOfProducts','EstimatedSalary']\n",
    "from sklearn.preprocessing import MinMaxScaler\n",
    "scale = MinMaxScaler()\n",
    "df3[to_scale] = scale.fit_transform(df3[to_scale])\n",
    "unique_values(df3)"
   ]
  },
  {
   "cell_type": "code",
   "execution_count": 69,
   "metadata": {},
   "outputs": [],
   "source": [
    "import tensorflow as tf\n",
    "from tensorflow import keras"
   ]
  },
  {
   "cell_type": "code",
   "execution_count": 70,
   "metadata": {},
   "outputs": [
    {
     "data": {
      "text/plain": [
       "(10000, 14)"
      ]
     },
     "execution_count": 70,
     "metadata": {},
     "output_type": "execute_result"
    }
   ],
   "source": [
    "df3.shape"
   ]
  },
  {
   "cell_type": "code",
   "execution_count": 71,
   "metadata": {},
   "outputs": [],
   "source": [
    "df3 = df3.sample(frac = 1) "
   ]
  },
  {
   "cell_type": "code",
   "execution_count": 72,
   "metadata": {},
   "outputs": [],
   "source": [
    "X = df3.drop('Exited',axis=1)\n",
    "y=df3['Exited']\n",
    "\n",
    "from sklearn.model_selection import train_test_split\n",
    "X_train,X_test,y_train,y_test = train_test_split(X,y,test_size=0.001)"
   ]
  },
  {
   "cell_type": "code",
   "execution_count": 73,
   "metadata": {
    "collapsed": true
   },
   "outputs": [
    {
     "name": "stdout",
     "output_type": "stream",
     "text": [
      "Epoch 1/100\n",
      "313/313 [==============================] - 0s 452us/step - loss: 0.5621 - accuracy: 0.7148\n",
      "Epoch 2/100\n",
      "313/313 [==============================] - 0s 442us/step - loss: 0.4630 - accuracy: 0.8010\n",
      "Epoch 3/100\n",
      "313/313 [==============================] - 0s 434us/step - loss: 0.4501 - accuracy: 0.8067\n",
      "Epoch 4/100\n",
      "313/313 [==============================] - 0s 437us/step - loss: 0.4421 - accuracy: 0.8098\n",
      "Epoch 5/100\n",
      "313/313 [==============================] - 0s 446us/step - loss: 0.4355 - accuracy: 0.8116\n",
      "Epoch 6/100\n",
      "313/313 [==============================] - 0s 438us/step - loss: 0.4319 - accuracy: 0.8136\n",
      "Epoch 7/100\n",
      "313/313 [==============================] - 0s 447us/step - loss: 0.4278 - accuracy: 0.8152\n",
      "Epoch 8/100\n",
      "313/313 [==============================] - 0s 442us/step - loss: 0.4238 - accuracy: 0.8176\n",
      "Epoch 9/100\n",
      "313/313 [==============================] - 0s 458us/step - loss: 0.4201 - accuracy: 0.8168\n",
      "Epoch 10/100\n",
      "313/313 [==============================] - 0s 434us/step - loss: 0.4165 - accuracy: 0.8192\n",
      "Epoch 11/100\n",
      "313/313 [==============================] - 0s 436us/step - loss: 0.4129 - accuracy: 0.8223\n",
      "Epoch 12/100\n",
      "313/313 [==============================] - 0s 439us/step - loss: 0.4090 - accuracy: 0.8241\n",
      "Epoch 13/100\n",
      "313/313 [==============================] - 0s 438us/step - loss: 0.4046 - accuracy: 0.8257\n",
      "Epoch 14/100\n",
      "313/313 [==============================] - 0s 437us/step - loss: 0.4011 - accuracy: 0.8272\n",
      "Epoch 15/100\n",
      "313/313 [==============================] - 0s 437us/step - loss: 0.3965 - accuracy: 0.8276\n",
      "Epoch 16/100\n",
      "313/313 [==============================] - 0s 438us/step - loss: 0.3936 - accuracy: 0.8295\n",
      "Epoch 17/100\n",
      "313/313 [==============================] - 0s 444us/step - loss: 0.3902 - accuracy: 0.8298\n",
      "Epoch 18/100\n",
      "313/313 [==============================] - 0s 432us/step - loss: 0.3866 - accuracy: 0.8318\n",
      "Epoch 19/100\n",
      "313/313 [==============================] - 0s 439us/step - loss: 0.3837 - accuracy: 0.8340\n",
      "Epoch 20/100\n",
      "313/313 [==============================] - 0s 447us/step - loss: 0.3811 - accuracy: 0.8368\n",
      "Epoch 21/100\n",
      "313/313 [==============================] - 0s 440us/step - loss: 0.3788 - accuracy: 0.8375\n",
      "Epoch 22/100\n",
      "313/313 [==============================] - 0s 442us/step - loss: 0.3762 - accuracy: 0.8397\n",
      "Epoch 23/100\n",
      "313/313 [==============================] - 0s 449us/step - loss: 0.3740 - accuracy: 0.8398\n",
      "Epoch 24/100\n",
      "313/313 [==============================] - 0s 452us/step - loss: 0.3711 - accuracy: 0.8408\n",
      "Epoch 25/100\n",
      "313/313 [==============================] - 0s 443us/step - loss: 0.3694 - accuracy: 0.8439\n",
      "Epoch 26/100\n",
      "313/313 [==============================] - 0s 437us/step - loss: 0.3675 - accuracy: 0.8427\n",
      "Epoch 27/100\n",
      "313/313 [==============================] - 0s 449us/step - loss: 0.3658 - accuracy: 0.8462\n",
      "Epoch 28/100\n",
      "313/313 [==============================] - 0s 434us/step - loss: 0.3646 - accuracy: 0.8464\n",
      "Epoch 29/100\n",
      "313/313 [==============================] - 0s 436us/step - loss: 0.3623 - accuracy: 0.8475\n",
      "Epoch 30/100\n",
      "313/313 [==============================] - 0s 454us/step - loss: 0.3612 - accuracy: 0.8488\n",
      "Epoch 31/100\n",
      "313/313 [==============================] - 0s 437us/step - loss: 0.3596 - accuracy: 0.8502\n",
      "Epoch 32/100\n",
      "313/313 [==============================] - 0s 443us/step - loss: 0.3583 - accuracy: 0.8502\n",
      "Epoch 33/100\n",
      "313/313 [==============================] - 0s 439us/step - loss: 0.3574 - accuracy: 0.8503\n",
      "Epoch 34/100\n",
      "313/313 [==============================] - 0s 436us/step - loss: 0.3557 - accuracy: 0.8532\n",
      "Epoch 35/100\n",
      "313/313 [==============================] - 0s 437us/step - loss: 0.3543 - accuracy: 0.8526\n",
      "Epoch 36/100\n",
      "313/313 [==============================] - 0s 439us/step - loss: 0.3530 - accuracy: 0.8549\n",
      "Epoch 37/100\n",
      "313/313 [==============================] - 0s 443us/step - loss: 0.3526 - accuracy: 0.8546\n",
      "Epoch 38/100\n",
      "313/313 [==============================] - 0s 446us/step - loss: 0.3514 - accuracy: 0.8538\n",
      "Epoch 39/100\n",
      "313/313 [==============================] - 0s 434us/step - loss: 0.3508 - accuracy: 0.8565\n",
      "Epoch 40/100\n",
      "313/313 [==============================] - 0s 434us/step - loss: 0.3497 - accuracy: 0.8542\n",
      "Epoch 41/100\n",
      "313/313 [==============================] - 0s 437us/step - loss: 0.3489 - accuracy: 0.8542\n",
      "Epoch 42/100\n",
      "313/313 [==============================] - 0s 438us/step - loss: 0.3478 - accuracy: 0.8538\n",
      "Epoch 43/100\n",
      "313/313 [==============================] - 0s 436us/step - loss: 0.3472 - accuracy: 0.8556\n",
      "Epoch 44/100\n",
      "313/313 [==============================] - 0s 442us/step - loss: 0.3465 - accuracy: 0.8576\n",
      "Epoch 45/100\n",
      "313/313 [==============================] - 0s 446us/step - loss: 0.3460 - accuracy: 0.8585\n",
      "Epoch 46/100\n",
      "313/313 [==============================] - 0s 435us/step - loss: 0.3447 - accuracy: 0.8579\n",
      "Epoch 47/100\n",
      "313/313 [==============================] - 0s 435us/step - loss: 0.3445 - accuracy: 0.8573\n",
      "Epoch 48/100\n",
      "313/313 [==============================] - 0s 436us/step - loss: 0.3446 - accuracy: 0.8597\n",
      "Epoch 49/100\n",
      "313/313 [==============================] - 0s 449us/step - loss: 0.3434 - accuracy: 0.8580\n",
      "Epoch 50/100\n",
      "313/313 [==============================] - 0s 441us/step - loss: 0.3436 - accuracy: 0.8585\n",
      "Epoch 51/100\n",
      "313/313 [==============================] - 0s 451us/step - loss: 0.3423 - accuracy: 0.8589\n",
      "Epoch 52/100\n",
      "313/313 [==============================] - 0s 453us/step - loss: 0.3419 - accuracy: 0.8584\n",
      "Epoch 53/100\n",
      "313/313 [==============================] - 0s 463us/step - loss: 0.3416 - accuracy: 0.8574\n",
      "Epoch 54/100\n",
      "313/313 [==============================] - 0s 459us/step - loss: 0.3416 - accuracy: 0.8600\n",
      "Epoch 55/100\n",
      "313/313 [==============================] - 0s 594us/step - loss: 0.3413 - accuracy: 0.8592\n",
      "Epoch 56/100\n",
      "313/313 [==============================] - 0s 610us/step - loss: 0.3411 - accuracy: 0.8602\n",
      "Epoch 57/100\n",
      "313/313 [==============================] - 0s 448us/step - loss: 0.3403 - accuracy: 0.8598\n",
      "Epoch 58/100\n",
      "313/313 [==============================] - 0s 447us/step - loss: 0.3406 - accuracy: 0.8586\n",
      "Epoch 59/100\n",
      "313/313 [==============================] - 0s 449us/step - loss: 0.3402 - accuracy: 0.8612\n",
      "Epoch 60/100\n",
      "313/313 [==============================] - 0s 455us/step - loss: 0.3408 - accuracy: 0.8620\n",
      "Epoch 61/100\n",
      "313/313 [==============================] - 0s 577us/step - loss: 0.3397 - accuracy: 0.8604\n",
      "Epoch 62/100\n",
      "313/313 [==============================] - 0s 727us/step - loss: 0.3403 - accuracy: 0.8584\n",
      "Epoch 63/100\n",
      "313/313 [==============================] - 0s 508us/step - loss: 0.3391 - accuracy: 0.8589\n",
      "Epoch 64/100\n",
      "313/313 [==============================] - 0s 472us/step - loss: 0.3399 - accuracy: 0.8586\n",
      "Epoch 65/100\n",
      "313/313 [==============================] - 0s 467us/step - loss: 0.3395 - accuracy: 0.8603\n",
      "Epoch 66/100\n",
      "313/313 [==============================] - 0s 452us/step - loss: 0.3388 - accuracy: 0.8617\n",
      "Epoch 67/100\n",
      "313/313 [==============================] - 0s 438us/step - loss: 0.3388 - accuracy: 0.8606\n",
      "Epoch 68/100\n",
      "313/313 [==============================] - 0s 443us/step - loss: 0.3382 - accuracy: 0.8626\n",
      "Epoch 69/100\n",
      "313/313 [==============================] - 0s 443us/step - loss: 0.3387 - accuracy: 0.8601\n",
      "Epoch 70/100\n",
      "313/313 [==============================] - 0s 447us/step - loss: 0.3380 - accuracy: 0.8613\n",
      "Epoch 71/100\n",
      "313/313 [==============================] - 0s 443us/step - loss: 0.3381 - accuracy: 0.8616\n",
      "Epoch 72/100\n",
      "313/313 [==============================] - 0s 442us/step - loss: 0.3374 - accuracy: 0.8619\n",
      "Epoch 73/100\n",
      "313/313 [==============================] - 0s 440us/step - loss: 0.3382 - accuracy: 0.8604\n",
      "Epoch 74/100\n",
      "313/313 [==============================] - 0s 433us/step - loss: 0.3377 - accuracy: 0.8616\n",
      "Epoch 75/100\n",
      "313/313 [==============================] - 0s 441us/step - loss: 0.3377 - accuracy: 0.8621\n",
      "Epoch 76/100\n",
      "313/313 [==============================] - 0s 481us/step - loss: 0.3375 - accuracy: 0.8607\n",
      "Epoch 77/100\n",
      "313/313 [==============================] - 0s 448us/step - loss: 0.3369 - accuracy: 0.8624\n",
      "Epoch 78/100\n",
      "313/313 [==============================] - 0s 438us/step - loss: 0.3369 - accuracy: 0.8626\n",
      "Epoch 79/100\n"
     ]
    },
    {
     "name": "stdout",
     "output_type": "stream",
     "text": [
      "313/313 [==============================] - 0s 439us/step - loss: 0.3371 - accuracy: 0.8610\n",
      "Epoch 80/100\n",
      "313/313 [==============================] - 0s 447us/step - loss: 0.3367 - accuracy: 0.8641\n",
      "Epoch 81/100\n",
      "313/313 [==============================] - 0s 456us/step - loss: 0.3365 - accuracy: 0.8613\n",
      "Epoch 82/100\n",
      "313/313 [==============================] - 0s 460us/step - loss: 0.3365 - accuracy: 0.8630\n",
      "Epoch 83/100\n",
      "313/313 [==============================] - 0s 457us/step - loss: 0.3375 - accuracy: 0.8632\n",
      "Epoch 84/100\n",
      "313/313 [==============================] - 0s 440us/step - loss: 0.3371 - accuracy: 0.8599\n",
      "Epoch 85/100\n",
      "313/313 [==============================] - 0s 448us/step - loss: 0.3365 - accuracy: 0.8624\n",
      "Epoch 86/100\n",
      "313/313 [==============================] - 0s 526us/step - loss: 0.3359 - accuracy: 0.8615\n",
      "Epoch 87/100\n",
      "313/313 [==============================] - 0s 561us/step - loss: 0.3363 - accuracy: 0.8629\n",
      "Epoch 88/100\n",
      "313/313 [==============================] - 0s 451us/step - loss: 0.3363 - accuracy: 0.8642\n",
      "Epoch 89/100\n",
      "313/313 [==============================] - 0s 434us/step - loss: 0.3361 - accuracy: 0.8622\n",
      "Epoch 90/100\n",
      "313/313 [==============================] - 0s 540us/step - loss: 0.3362 - accuracy: 0.8625\n",
      "Epoch 91/100\n",
      "313/313 [==============================] - 0s 459us/step - loss: 0.3357 - accuracy: 0.8610\n",
      "Epoch 92/100\n",
      "313/313 [==============================] - 0s 450us/step - loss: 0.3362 - accuracy: 0.8613\n",
      "Epoch 93/100\n",
      "313/313 [==============================] - 0s 552us/step - loss: 0.3356 - accuracy: 0.8630\n",
      "Epoch 94/100\n",
      "313/313 [==============================] - 0s 426us/step - loss: 0.3356 - accuracy: 0.8622\n",
      "Epoch 95/100\n",
      "313/313 [==============================] - 0s 491us/step - loss: 0.3355 - accuracy: 0.8631\n",
      "Epoch 96/100\n",
      "313/313 [==============================] - 0s 518us/step - loss: 0.3355 - accuracy: 0.8640\n",
      "Epoch 97/100\n",
      "313/313 [==============================] - 0s 448us/step - loss: 0.3353 - accuracy: 0.8622\n",
      "Epoch 98/100\n",
      "313/313 [==============================] - 0s 451us/step - loss: 0.3349 - accuracy: 0.8643\n",
      "Epoch 99/100\n",
      "313/313 [==============================] - 0s 450us/step - loss: 0.3356 - accuracy: 0.8605\n",
      "Epoch 100/100\n",
      "313/313 [==============================] - 0s 542us/step - loss: 0.3348 - accuracy: 0.8614\n"
     ]
    }
   ],
   "source": [
    "model = keras.Sequential([\n",
    "    keras.layers.Dense(13,input_shape=(13,),activation='relu'),\n",
    "    keras.layers.Dense(1,activation ='sigmoid')\n",
    "])\n",
    "\n",
    "model.compile(optimizer = 'adam',\n",
    "             loss = 'binary_crossentropy',\n",
    "             metrics=['accuracy'])\n",
    "history = model.fit(X_train,y_train,epochs = 100)"
   ]
  },
  {
   "cell_type": "code",
   "execution_count": 74,
   "metadata": {},
   "outputs": [
    {
     "name": "stdout",
     "output_type": "stream",
     "text": [
      "1/1 [==============================] - 0s 678us/step - loss: 0.4727 - accuracy: 0.8000\n"
     ]
    },
    {
     "data": {
      "text/plain": [
       "[0.47271808981895447, 0.800000011920929]"
      ]
     },
     "execution_count": 74,
     "metadata": {},
     "output_type": "execute_result"
    }
   ],
   "source": [
    "model.evaluate(X_test,y_test)"
   ]
  },
  {
   "cell_type": "code",
   "execution_count": 75,
   "metadata": {},
   "outputs": [
    {
     "data": {
      "text/plain": [
       "dict_keys(['loss', 'accuracy'])"
      ]
     },
     "execution_count": 75,
     "metadata": {},
     "output_type": "execute_result"
    }
   ],
   "source": [
    "history.history.keys()"
   ]
  },
  {
   "cell_type": "code",
   "execution_count": 76,
   "metadata": {},
   "outputs": [
    {
     "data": {
      "text/plain": [
       "[<matplotlib.lines.Line2D at 0x7feff4476190>]"
      ]
     },
     "execution_count": 76,
     "metadata": {},
     "output_type": "execute_result"
    },
    {
     "data": {
      "image/png": "[encoded data removed]",
      "text/plain": [
       "<Figure size 432x288 with 1 Axes>"
      ]
     },
     "metadata": {
      "needs_background": "light"
     },
     "output_type": "display_data"
    }
   ],
   "source": [
    "plt.plot(history.history['loss'])"
   ]
  },
  {
   "cell_type": "code",
   "execution_count": 77,
   "metadata": {},
   "outputs": [
    {
     "data": {
      "text/plain": [
       "[<matplotlib.lines.Line2D at 0x7feff4451df0>]"
      ]
     },
     "execution_count": 77,
     "metadata": {},
     "output_type": "execute_result"
    },
    {
     "data": {
      "image/png": "[encoded data removed]",
      "text/plain": [
       "<Figure size 432x288 with 1 Axes>"
      ]
     },
     "metadata": {
      "needs_background": "light"
     },
     "output_type": "display_data"
    }
   ],
   "source": [
    "plt.plot(history.history['accuracy'])"
   ]
  },
  {
   "cell_type": "code",
   "execution_count": 78,
   "metadata": {},
   "outputs": [
    {
     "data": {
      "text/plain": [
       "[0, 0, 0, 0, 0, 0, 0, 1, 0, 0]"
      ]
     },
     "execution_count": 78,
     "metadata": {},
     "output_type": "execute_result"
    }
   ],
   "source": [
    "yp = model.predict(X_test)\n",
    "y_pred = []\n",
    "for i in yp:\n",
    "    if(i>=0.5):\n",
    "        y_pred.append(1)\n",
    "    else:\n",
    "        y_pred.append(0)\n",
    "y_pred[:10]"
   ]
  },
  {
   "cell_type": "code",
   "execution_count": 79,
   "metadata": {},
   "outputs": [
    {
     "data": {
      "text/plain": [
       "3202    0\n",
       "4109    0\n",
       "2995    0\n",
       "3693    1\n",
       "7184    0\n",
       "3213    0\n",
       "4534    0\n",
       "3463    1\n",
       "150     0\n",
       "8427    1\n",
       "Name: Exited, dtype: int64"
      ]
     },
     "execution_count": 79,
     "metadata": {},
     "output_type": "execute_result"
    }
   ],
   "source": [
    "y_test"
   ]
  },
  {
   "cell_type": "code",
   "execution_count": 80,
   "metadata": {},
   "outputs": [
    {
     "name": "stdout",
     "output_type": "stream",
     "text": [
      "              precision    recall  f1-score   support\n",
      "\n",
      "           0       0.78      1.00      0.88         7\n",
      "           1       1.00      0.33      0.50         3\n",
      "\n",
      "    accuracy                           0.80        10\n",
      "   macro avg       0.89      0.67      0.69        10\n",
      "weighted avg       0.84      0.80      0.76        10\n",
      "\n"
     ]
    }
   ],
   "source": [
    "from sklearn.metrics import confusion_matrix,classification_report\n",
    "print(classification_report(y_test,y_pred))"
   ]
  },
  {
   "cell_type": "code",
   "execution_count": 81,
   "metadata": {},
   "outputs": [
    {
     "data": {
      "text/plain": [
       "<tf.Tensor: shape=(2, 2), dtype=int32, numpy=\n",
       "array([[7, 0],\n",
       "       [2, 1]], dtype=int32)>"
      ]
     },
     "execution_count": 81,
     "metadata": {},
     "output_type": "execute_result"
    }
   ],
   "source": [
    "import seaborn as sn\n",
    "cm = tf.math.confusion_matrix(labels=y_test,predictions=y_pred)\n",
    "cm"
   ]
  },
  {
   "cell_type": "code",
   "execution_count": 82,
   "metadata": {},
   "outputs": [
    {
     "data": {
      "image/png": "[encoded data removed]",
      "text/plain": [
       "<Figure size 432x288 with 2 Axes>"
      ]
     },
     "metadata": {
      "needs_background": "light"
     },
     "output_type": "display_data"
    }
   ],
   "source": [
    "sn.heatmap(cm,annot=True,fmt='d')\n",
    "plt.xlabel('Predicted')\n",
    "plt.ylabel('Truth')\n",
    "plt.show()"
   ]
  }
 ],
 "metadata": {
  "kernelspec": {
   "display_name": "Python 3",
   "language": "python",
   "name": "python3"
  },
  "language_info": {
   "codemirror_mode": {
    "name": "ipython",
    "version": 3
   },
   "file_extension": ".py",
   "mimetype": "text/x-python",
   "name": "python",
   "nbconvert_exporter": "python",
   "pygments_lexer": "ipython3",
   "version": "3.8.3"
  }
 },
 "nbformat": 4,
 "nbformat_minor": 4
}
